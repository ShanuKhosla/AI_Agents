{
 "cells": [
  {
   "cell_type": "code",
   "execution_count": 43,
   "id": "29e212b9-1e78-4e6e-ae17-8fbcb2a1920f",
   "metadata": {},
   "outputs": [],
   "source": [
    "import os  # Standard Python module to interact with the operating system (e.g., env variables, file paths)\n",
    "\n",
    "from openai import OpenAI  # Official OpenAI client – used for making API calls to GPT-4, GPT-3.5, etc.\n",
    "\n",
    "from langgraph.graph import StateGraph, END  \n",
    "# LangGraph is used to define stateful graphs (multi-agent or workflow pipelines)\n",
    "# StateGraph defines nodes and transitions, END is used to mark terminal states\n",
    "\n",
    "from typing import TypedDict, Annotated  \n",
    "# Built-in Python module for type hints\n",
    "# TypedDict helps define structured dictionary types\n",
    "# Annotated lets you attach metadata to types (useful in LangChain input/output schemas)\n",
    "\n",
    "import operator  \n",
    "# Built-in Python module providing functional equivalents of operators (like <, ==, etc.)\n",
    "\n",
    "from langchain_core.messages import AnyMessage, SystemMessage, HumanMessage, ToolMessage\n",
    "# These are message types in LangChain's core message passing system\n",
    "# Used for defining and processing chat-style inputs/outputs\n",
    "\n",
    "from langchain_openai import ChatOpenAI  \n",
    "# LangChain wrapper for OpenAI's chat models – lets you call GPT-4/3.5 with extra features like streaming\n",
    "\n",
    "from langchain_community.tools.tavily_search import TavilySearchResults  \n",
    "# Community-contributed LangChain integration for Tavily (a web search tool for real-time search results)\n",
    "\n",
    "from langchain_openai import ChatOpenAI"
   ]
  },
  {
   "cell_type": "code",
   "execution_count": 44,
   "id": "b3f61cb8-dbb9-40a8-b692-b6b0adc3ef88",
   "metadata": {},
   "outputs": [],
   "source": [
    "from dotenv import load_dotenv\n",
    "load_dotenv()\n",
    "\n",
    "token = os.getenv(\"GITHUB_TOKEN\")\n",
    "tavily_api_key = os.getenv(\"TAVILY_API_KEY\")\n",
    "endpoint = \"https://models.github.ai/inference\"\n",
    "model_name = \"openai/gpt-4.1-mini\""
   ]
  },
  {
   "cell_type": "code",
   "execution_count": 45,
   "id": "c1377ec2-bc9d-4ead-b255-f31e5a77205b",
   "metadata": {},
   "outputs": [],
   "source": [
    "class AgentState(TypedDict):\n",
    "    messages: Annotated[list[AnyMessage], operator.add]"
   ]
  },
  {
   "cell_type": "code",
   "execution_count": 46,
   "id": "8d8dfa02-7d27-422d-8552-5b8e8e9a2ec7",
   "metadata": {},
   "outputs": [],
   "source": [
    "class Agent:\n",
    "    def __init__(self, model, tools, system=\"\"):\n",
    "        self.system = system  # Optional system prompt to guide LLM behavior\n",
    "\n",
    "        # Initialize the state graph with custom state type\n",
    "        graph = StateGraph(AgentState)\n",
    "\n",
    "        # Node 1: Call the LLM (e.g., GPT-4)\n",
    "        graph.add_node(\"llm\", self.call_openai)\n",
    "\n",
    "        # Node 2: Perform the tool actions the LLM requests\n",
    "        graph.add_node(\"action\", self.take_action)\n",
    "\n",
    "        # Decide where to go next after calling the LLM:\n",
    "        # If LLM wants to use a tool → go to \"action\"\n",
    "        # Else → end the graph\n",
    "        graph.add_conditional_edges(\n",
    "            \"llm\", self.exists_action,  \n",
    "            {True: \"action\", False: END},\n",
    "        )\n",
    "\n",
    "        # After taking an action, go back to the LLM\n",
    "        graph.add_edge(\"action\", \"llm\")\n",
    "\n",
    "        # Define starting point of the graph\n",
    "        graph.set_entry_point(\"llm\")\n",
    "\n",
    "        # Compile the graph so it's ready to run\n",
    "        self.graph = graph.compile()\n",
    "\n",
    "        # Store the tools in a dictionary keyed by tool name\n",
    "        self.tools = {t.name: t for t in tools}\n",
    "\n",
    "        # Bind tools to the model (LangChain LLM)\n",
    "        self.model = model.bind_tools(tools)\n",
    "\n",
    "    def call_openai(self, state: AgentState):\n",
    "        # Get the message history from the current state\n",
    "        messages = state['messages']\n",
    "\n",
    "        # If a system prompt is set, prepend it to messages\n",
    "        if self.system:\n",
    "            messages = [SystemMessage(content=self.system)] + messages\n",
    "\n",
    "        # Call the LLM with the messages\n",
    "        message = self.model.invoke(messages)\n",
    "\n",
    "        # Return the LLM response wrapped in a dict\n",
    "        return {'messages': [message]}\n",
    "\n",
    "    def take_action(self, state: AgentState):\n",
    "        # Get the tool calls from the last message\n",
    "        tool_calls = state['messages'][-1].tool_calls\n",
    "\n",
    "        results = []\n",
    "        for t in tool_calls:\n",
    "            print(f\"Calling: {t}\")\n",
    "\n",
    "            # Check if the tool name returned by LLM is valid\n",
    "            if t['name'] not in self.tools:\n",
    "                print(\"\\n ....bad tool name....\")\n",
    "                result = \"bad tool name, retry\"  # Signal for retry\n",
    "            else:\n",
    "                # Call the tool with arguments\n",
    "                result = self.tools[t['name']].invoke(t['args'])\n",
    "\n",
    "            # Package the tool result as a ToolMessage\n",
    "            results.append(ToolMessage(\n",
    "                tool_call_id=t['id'],\n",
    "                name=t['name'],\n",
    "                content=str(result)\n",
    "            ))\n",
    "\n",
    "        print(\"Back to the model!\")\n",
    "\n",
    "        # Return tool results to LLM\n",
    "        return {'messages': results}\n",
    "\n",
    "    def exists_action(self, state: AgentState):\n",
    "        result = state['messages'][-1]\n",
    "        return len(result.tool_calls) > 0"
   ]
  },
  {
   "cell_type": "code",
   "execution_count": 47,
   "id": "212878ff-4e24-4cd6-87da-e12b8da17deb",
   "metadata": {},
   "outputs": [],
   "source": [
    "# System prompt\n",
    "prompt = \"\"\"You are a smart research assistant. Use the search engine to look up information. \\\n",
    "You are allowed to make multiple calls (either together or in sequence). \\\n",
    "Only look up information when you are sure of what you want. \\\n",
    "If you need to look up some information before asking a follow up question, you are allowed to do that!\n",
    "\"\"\"\n",
    "\n",
    "# Final fix - correct way to init model\n",
    "model = ChatOpenAI(\n",
    "    model=\"openai/gpt-4.1-mini\",\n",
    "    base_url=\"https://models.github.ai/inference\",\n",
    "    api_key=token,\n",
    ")\n",
    "\n",
    "# Define tool\n",
    "tool = TavilySearchResults(api_key=tavily_api_key)\n",
    "\n",
    "# Build agent\n",
    "abot = Agent(model, [tool], system=prompt)"
   ]
  },
  {
   "cell_type": "code",
   "execution_count": 48,
   "id": "d77dc458-cadd-47a7-96bb-7357ad3f6647",
   "metadata": {},
   "outputs": [],
   "source": [
    "import networkx as nx\n",
    "import matplotlib.pyplot as plt\n",
    "\n",
    "def visualize_graph(graph):\n",
    "    G = nx.DiGraph()\n",
    "\n",
    "    # Add nodes\n",
    "    for node_id, node in graph.nodes.items():\n",
    "        G.add_node(node_id)\n",
    "\n",
    "    # Add edges\n",
    "    for edge in graph.edges:\n",
    "        label = str(edge.data) if edge.conditional else \"\"\n",
    "        G.add_edge(edge.source, edge.target, label=label)\n",
    "\n",
    "    # Layout\n",
    "    pos = nx.spring_layout(G, seed=42)\n",
    "    edge_labels = nx.get_edge_attributes(G, 'label')\n",
    "\n",
    "    # Draw graph\n",
    "    nx.draw(G, pos, with_labels=True, node_color='lightblue', node_size=2000, font_size=10, font_weight='bold', arrows=True)\n",
    "    nx.draw_networkx_edge_labels(G, pos, edge_labels=edge_labels, font_color='red')\n",
    "\n",
    "    plt.title(\"LangGraph Visualization (No pygraphviz 😎)\")\n",
    "    plt.axis(\"off\")\n",
    "    plt.tight_layout()\n",
    "    plt.show()"
   ]
  },
  {
   "cell_type": "code",
   "execution_count": 49,
   "id": "f8e1aab0-7bd5-4f78-9264-1978c9531780",
   "metadata": {},
   "outputs": [
    {
     "name": "stderr",
     "output_type": "stream",
     "text": [
      "C:\\Users\\Shantanu Khosla\\AppData\\Local\\Temp\\ipykernel_25208\\507448296.py:26: UserWarning: This figure includes Axes that are not compatible with tight_layout, so results might be incorrect.\n",
      "  plt.tight_layout()\n"
     ]
    },
    {
     "data": {
      "image/png": "[encoded data removed]",
      "text/plain": [
       "<Figure size 640x480 with 1 Axes>"
      ]
     },
     "metadata": {},
     "output_type": "display_data"
    }
   ],
   "source": [
    "visualize_graph(abot.graph.get_graph())\n"
   ]
  },
  {
   "cell_type": "code",
   "execution_count": 52,
   "id": "98f2ffa1-a5f9-469d-8d3d-84294a5e5b50",
   "metadata": {},
   "outputs": [
    {
     "name": "stdout",
     "output_type": "stream",
     "text": [
      "Calling: {'name': 'tavily_search_results_json', 'args': {'query': 'current weather in San Francisco'}, 'id': 'call_QOye6wBtQkB0AnpH5HtigLpu', 'type': 'tool_call'}\n",
      "Back to the model!\n"
     ]
    }
   ],
   "source": [
    "messages = [HumanMessage(content=\"What is the weather in sf?\")]\n",
    "result = abot.graph.invoke({\"messages\": messages})"
   ]
  },
  {
   "cell_type": "code",
   "execution_count": 54,
   "id": "ad7207a5-500f-4c31-aaaa-f56f28ae5e3c",
   "metadata": {},
   "outputs": [
    {
     "data": {
      "text/plain": [
       "'The current weather in San Francisco is partly cloudy with a temperature of 57°F. It feels like 56°F and is cool. A light jacket is recommended.'"
      ]
     },
     "execution_count": 54,
     "metadata": {},
     "output_type": "execute_result"
    }
   ],
   "source": [
    "result['messages'][-1].content"
   ]
  },
  {
   "cell_type": "code",
   "execution_count": 55,
   "id": "85c3dde8-35cb-4933-93eb-69603bb2267a",
   "metadata": {
    "scrolled": true
   },
   "outputs": [
    {
     "name": "stdout",
     "output_type": "stream",
     "text": [
      "Calling: {'name': 'tavily_search_results_json', 'args': {'query': 'current weather in San Francisco'}, 'id': 'call_fPINAlqUz99m4dm2RWvHbc3M', 'type': 'tool_call'}\n",
      "Calling: {'name': 'tavily_search_results_json', 'args': {'query': 'current weather in Los Angeles'}, 'id': 'call_jUjQkl7wUWTSQ9WErjZCJYNL', 'type': 'tool_call'}\n",
      "Calling: {'name': 'tavily_search_results_json', 'args': {'query': 'current weather in New York City'}, 'id': 'call_Qu3SszXdH48yJcESXv70DTRs', 'type': 'tool_call'}\n",
      "Back to the model!\n"
     ]
    }
   ],
   "source": [
    "messages = [HumanMessage(content=\"What is the weather in SF, LA and NYC?\")]\n",
    "result = abot.graph.invoke({\"messages\": messages})"
   ]
  },
  {
   "cell_type": "code",
   "execution_count": 56,
   "id": "29e5afae-f9a1-45de-a943-0b2834519237",
   "metadata": {},
   "outputs": [
    {
     "data": {
      "text/plain": [
       "'The current weather in these cities is as follows:\\n\\n- San Francisco: 57°F, partly cloudy, cool with a real feel of 56°F.\\n- Los Angeles: Sunny with a high of 81°F and a low of 63°F, clear skies.\\n- New York City: 81°F, cloudy with a real feel of 84°F, very warm.\\n\\nWould you like more detailed forecasts for any of these cities?'"
      ]
     },
     "execution_count": 56,
     "metadata": {},
     "output_type": "execute_result"
    }
   ],
   "source": [
    "result['messages'][-1].content"
   ]
  },
  {
   "cell_type": "code",
   "execution_count": 58,
   "id": "3ecba6ce-6cba-4e25-aaad-670a0b101a37",
   "metadata": {
    "scrolled": true
   },
   "outputs": [
    {
     "name": "stdout",
     "output_type": "stream",
     "text": [
      "Calling: {'name': 'tavily_search_results_json', 'args': {'query': '2024 EU AI Act amendments transparency data provenance risk classification'}, 'id': 'call_SgzQCzkR9E4W4buPyRyMohQ4', 'type': 'tool_call'}\n",
      "Calling: {'name': 'tavily_search_results_json', 'args': {'query': '2024 US Executive Order on Safe Secure Trustworthy AI compliance requirements'}, 'id': 'call_PJcGRNrnr8VFNjqXX1mj56gE', 'type': 'tool_call'}\n",
      "Calling: {'name': 'tavily_search_results_json', 'args': {'query': 'emerging AI regulations India Singapore 2024'}, 'id': 'call_UmCt2z2eUkLPoWPmP884YzQm', 'type': 'tool_call'}\n",
      "Back to the model!\n"
     ]
    }
   ],
   "source": [
    "query=\"\"\"\n",
    "You're an AI compliance strategist for a global LLM company. Based on recent amendments to the EU AI Act (2024) and the US Executive Order on Safe, Secure, and Trustworthy AI, draft a 3-month roadmap detailing specific compliance milestones across three regulatory domains: transparency, data provenance, and risk classification for foundation models.\n",
    "\n",
    "Your roadmap must be actionable and mapped to engineering, legal, and product stakeholders. Use evidence from the latest policy updates, cite reliable sources if available, and identify one emerging regulation outside the US/EU (e.g., India, Singapore) that companies should monitor.\n",
    "\n",
    "Avoid generic recommendations—give concrete next steps like \"implement model card V2 with synthetic output scoring metrics by Week 6\".\n",
    "\n",
    "Include a risk assessment matrix at the end.\n",
    "\n",
    "\"\"\"\n",
    "messages = [HumanMessage(content=query)]\n",
    "result = abot.graph.invoke({\"messages\": messages})"
   ]
  },
  {
   "cell_type": "code",
   "execution_count": 59,
   "id": "22d40c17-20a1-4f85-93e3-5f7114780274",
   "metadata": {},
   "outputs": [
    {
     "data": {
      "text/plain": [
       "'Based on the latest amendments to the EU AI Act (2024), the US Executive Order on Safe, Secure, and Trustworthy AI, and emerging regulatory trends in India and Singapore, here is a 3-month compliance roadmap for foundation model deployment, addressing transparency, data provenance, and risk classification. The roadmap includes specific milestones for engineering, legal, and product teams, with referenced evidence and a risk assessment matrix.\\n\\n---\\n\\n### 3-Month Roadmap for Compliance (Transparency, Data Provenance, Risk Classification)\\n\\n#### Month 1: Foundations and Gap Analysis\\n- **Engineering**:\\n  - Implement detailed audit trails for data ingestion covering origin verification and processing steps per EU AI Act Recital 72 emphasis on transparency and data documentation [EUR-Lex: 2024/1689].\\n  - Initiate development of Model Card V2 drafts that incorporate synthetic output scoring metrics for transparency as specified in US EO and EU high-risk system disclosure mandates.\\n- **Legal**:\\n  - Conduct a detailed review and gap analysis of current compliance against EU AI Act’s newly amended transparency and risk classification requirements on high-risk AI systems, particularly law enforcement use-cases [EUR-Lex].\\n  - Review US EO provisions on AI system transparency and required due diligence for third-party AI model use [whitehouse.gov EO 14110].\\n- **Product**:\\n  - Define product-specific risk classification schemas aligned with EU categories for \"high-risk\" AI and US EO security tiers.\\n  - Engage stakeholders to align on transparency user disclosures (e.g., identifying AI-generated content, model limitations).\\n  \\n#### Month 2: Development and Testing\\n- **Engineering**:\\n  - Complete implementation of Model Card V2 including synthetic output scoring by Week 6 as a required transparency metric.\\n  - Build functionality to tag provenance metadata along data pipeline to verify and trace dataset origins for audit readiness.\\n- **Legal**:\\n  - Draft and standardize compliance documentation and disclaimers for transparency obligations in product communication targeting end users and regulators.\\n  - Begin integration of contractual clauses for third-party AI model provenance checking and risk assessment in supplier/vendor agreements per US EO due diligence requirements.\\n- **Product**:\\n  - Finalize risk classification framework rollout for the product line with categorization updates.\\n  - Plan user education materials clarifying transparency and data provenance commitments.\\n  \\n#### Month 3: Deployment and Monitoring\\n- **Engineering**:\\n  - Deploy transparency features including visible model cards with synthetic output scores and data provenance transparency on public-facing platforms.\\n  - Launch continuous monitoring tools for risk alerts as per US EO and EU AI Act monitoring standards.\\n- **Legal**:\\n  - Submit initial compliance reports and documentation to EU and US regulatory bodies as stipulated for high-risk AI systems.\\n  - Review and update privacy impact assessments and data protection compliance reflecting provenance tracking mechanisms.\\n- **Product**:\\n  - Implement feedback channels to gather user and regulator inputs on effectiveness of transparency and risk communication.\\n  - Coordinate ongoing risk reclassification reviews based on deployment data and incident reports.\\n  \\n---\\n\\n### Emerging Regulation to Monitor\\n\\n- **India**: Ministry of Electronics and Information Technology (MeitY) revised advisory (March 2024) on AI compliance mandates platform responsibility over pre-deployment approvals with focus on intermediary obligations for safe, transparent AI deployment [americanchase.com; carnegieendowment.org].\\n- **Singapore**: IMDA’s 2024 proposed Model AI Governance Framework for Generative AI introduces nine dimensions emphasizing trust and practical incident reporting, inspired by EU AI Act principles [whitecase.com; diligent.com].\\n\\n---\\n\\n### Risk Assessment Matrix\\n\\n| Risk Domain          | Severity | Likelihood | Mitigation Measures                           | Responsible       |\\n|----------------------|----------|------------|----------------------------------------------|-------------------|\\n| Transparency Failures| High     | Medium     | Implement Model Card V2 with scoring metrics; public disclosures | Engineering/Product/Legal |\\n| Data Provenance Ambiguities| Medium | Medium     | Full audit trails and metadata tagging; provenance validation protocols | Engineering/Legal |\\n| Incorrect Risk Classification | High | Low        | Thorough legal review; product risk schema aligned to regulations | Legal/Product     |\\n| Regulatory Reporting Delays | Medium | Low        | Early report drafting; compliance calendar adherence | Legal             |\\n| Third-party Model Risks | High     | Medium     | Due diligence and contractual clauses for suppliers; continuous monitoring | Legal/Engineering |\\n\\n---\\n\\nThis strategic roadmap aligns concrete engineering deliverables, legal safeguards, and product risk frameworks with the latest regulatory milestones, ensuring your foundation models meet the evolving global AI compliance landscape. Would you like a detailed implementation checklist or templates for model card and compliance disclosures?'"
      ]
     },
     "execution_count": 59,
     "metadata": {},
     "output_type": "execute_result"
    }
   ],
   "source": [
    "result['messages'][-1].content"
   ]
  },
  {
   "cell_type": "code",
   "execution_count": null,
   "id": "0ca7b0d6-d661-4f7a-8824-51f81277a2e4",
   "metadata": {},
   "outputs": [],
   "source": []
  }
 ],
 "metadata": {
  "kernelspec": {
   "display_name": "Python 3 (ipykernel)",
   "language": "python",
   "name": "python3"
  },
  "language_info": {
   "codemirror_mode": {
    "name": "ipython",
    "version": 3
   },
   "file_extension": ".py",
   "mimetype": "text/x-python",
   "name": "python",
   "nbconvert_exporter": "python",
   "pygments_lexer": "ipython3",
   "version": "3.10.6"
  }
 },
 "nbformat": 4,
 "nbformat_minor": 5
}
