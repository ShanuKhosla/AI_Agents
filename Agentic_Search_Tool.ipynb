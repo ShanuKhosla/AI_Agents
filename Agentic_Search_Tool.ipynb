{
 "cells": [
  {
   "cell_type": "code",
   "execution_count": 1,
   "id": "a33edb07-188c-4826-b02e-68fcf7315a21",
   "metadata": {},
   "outputs": [],
   "source": [
    "from dotenv import load_dotenv\n",
    "import os\n",
    "from tavily import TavilyClient"
   ]
  },
  {
   "cell_type": "code",
   "execution_count": 2,
   "id": "253b9d16-40f0-43cd-9c35-08ed4702a791",
   "metadata": {},
   "outputs": [],
   "source": [
    "_ = load_dotenv()"
   ]
  },
  {
   "cell_type": "code",
   "execution_count": 3,
   "id": "d667ec6b-6491-4c83-aa02-03c941e8db47",
   "metadata": {},
   "outputs": [],
   "source": [
    "client = TavilyClient(api_key=os.environ.get(\"TAVILY_API_KEY\"))"
   ]
  },
  {
   "cell_type": "code",
   "execution_count": 7,
   "id": "caa6c846-093d-498b-a94b-c014d88d74d5",
   "metadata": {},
   "outputs": [],
   "source": [
    "city = \"NYC\"\n",
    "query = f\"\"\"\n",
    "What's the weather in {city}? Are there delays in public transit or any major events today?\n",
    "How's traffic? Is Mercury retrograde? Should I travel or not today?\n",
    "\"\"\"\n"
   ]
  },
  {
   "cell_type": "code",
   "execution_count": 10,
   "id": "19da812d-14e4-4ff3-969d-137dfe191b4c",
   "metadata": {},
   "outputs": [
    {
     "data": {
      "text/plain": [
       "\"Today in NYC, it's partly cloudy with a high of 82°F. Expect thunderstorms on I-95. Mercury is not retrograde.\""
      ]
     },
     "execution_count": 10,
     "metadata": {},
     "output_type": "execute_result"
    }
   ],
   "source": [
    "result = client.search(query, include_answer=True)\n",
    "result['answer']"
   ]
  },
  {
   "cell_type": "code",
   "execution_count": null,
   "id": "f9abc50e-31a0-42c6-b920-0e3b4c43da8a",
   "metadata": {},
   "outputs": [],
   "source": []
  }
 ],
 "metadata": {
  "kernelspec": {
   "display_name": "Python 3 (ipykernel)",
   "language": "python",
   "name": "python3"
  },
  "language_info": {
   "codemirror_mode": {
    "name": "ipython",
    "version": 3
   },
   "file_extension": ".py",
   "mimetype": "text/x-python",
   "name": "python",
   "nbconvert_exporter": "python",
   "pygments_lexer": "ipython3",
   "version": "3.10.6"
  }
 },
 "nbformat": 4,
 "nbformat_minor": 5
}
